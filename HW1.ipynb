# CS 3190 - HW1
# Jessika Jimenez

#import matplotlib.pyplot as plt
#from scipy.stats import norm
#import numpy as np
#import math

#mean = 3
#variance = 1
#sigma = math.sqrt(variance)
#x = np.linspace(-3, 9, 201)

#plt.plot(x, norm.pdf((x-mean)/sigma), linewidth=2.0, label='normal PDF')
#plt.plot(x, norm.cdf((x-mean)/sigma), linewidth=2.0, label='normal PDF')
#plt.legend(bbox_to_anchor=(0.35,1))
#plt.show()


# HW1 - Problem 3
import matplotlib.pyplot as plt
from scipy.stats import laplace
import numpy as np
import math

mean = 3
variance = 1
sigma = math.sqrt(variance)
x = np.linspace(-3, 9, 201)

plt.plot(x, laplace.pdf(x, mean, sigma), linewidth=2.0, label='laplace PDF')
plt.plot(x, laplace.cdf(x, mean, sigma), linewidth=2.0, label='laplace CDF')
plt.legend(bbox_to_anchor=(0.35,1))
plt.show()
